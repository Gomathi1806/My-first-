{
  "nbformat": 4,
  "nbformat_minor": 0,
  "metadata": {
    "colab": {
      "provenance": [],
      "authorship_tag": "ABX9TyOIcnMJ8EfPgVp0ldncTYe5",
      "include_colab_link": true
    },
    "kernelspec": {
      "name": "python3",
      "display_name": "Python 3"
    },
    "language_info": {
      "name": "python"
    }
  },
  "cells": [
    {
      "cell_type": "markdown",
      "metadata": {
        "id": "view-in-github",
        "colab_type": "text"
      },
      "source": [
        "<a href=\"https://colab.research.google.com/github/Gomathi1806/My-first-/blob/feat%2Ftest/Untitled10.ipynb\" target=\"_parent\"><img src=\"https://colab.research.google.com/assets/colab-badge.svg\" alt=\"Open In Colab\"/></a>"
      ]
    },
    {
      "cell_type": "code",
      "execution_count": 2,
      "metadata": {
        "colab": {
          "base_uri": "https://localhost:8080/"
        },
        "id": "wCaJ5MTLAnPz",
        "outputId": "272c6c60-a87c-43b7-bd2b-783d455931d8"
      },
      "outputs": [
        {
          "output_type": "stream",
          "name": "stdout",
          "text": [
            "This is not an even no.\n"
          ]
        }
      ],
      "source": [
        "x = 19\n",
        "if x%2==0:\n",
        "  print(\"This is an even no.\")\n",
        "else:\n",
        "  print (\"This is not an even no.\")  \n",
        "\n"
      ]
    },
    {
      "cell_type": "code",
      "source": [
        "   a = 15\n",
        "   b = 12\n",
        "   if a==b:\n",
        "    print(\"The two numbers are equal\")\n",
        "   elif a>b:\n",
        "    print(\"The first number is greater than second\")  \n",
        "   else:\n",
        "    print(\"The first number is smaller than the second\")  "
      ],
      "metadata": {
        "colab": {
          "base_uri": "https://localhost:8080/"
        },
        "id": "aon_t0GOBuUV",
        "outputId": "e604f13c-cd4c-4f71-cd83-98cf9a716d32"
      },
      "execution_count": 39,
      "outputs": [
        {
          "output_type": "stream",
          "name": "stdout",
          "text": [
            "The first number is greater than second\n"
          ]
        }
      ]
    },
    {
      "cell_type": "code",
      "source": [],
      "metadata": {
        "id": "XqcBHUU-EvJs"
      },
      "execution_count": null,
      "outputs": []
    },
    {
      "cell_type": "code",
      "source": [
        "a = 0\n",
        "if a>0:\n",
        "   print(\"The no. is positive\")\n",
        "elif a<0:\n",
        "   print(\"The no. is Negative\")   \n",
        "else:\n",
        "   print(\"The no. is zero\")   "
      ],
      "metadata": {
        "colab": {
          "base_uri": "https://localhost:8080/"
        },
        "id": "FjXsxKidCtlm",
        "outputId": "b2b3cebd-a3bb-4c57-f768-67bf67638e61"
      },
      "execution_count": 9,
      "outputs": [
        {
          "output_type": "stream",
          "name": "stdout",
          "text": [
            "The no. is zero\n"
          ]
        }
      ]
    },
    {
      "cell_type": "code",
      "source": [
        "for i in range(0,11):\n",
        "  print(\"The iteration is {}\".format(i))"
      ],
      "metadata": {
        "colab": {
          "base_uri": "https://localhost:8080/"
        },
        "id": "7TpQIeYmEv8K",
        "outputId": "c36091b0-302d-4afb-8e60-0132d10338a7"
      },
      "execution_count": 15,
      "outputs": [
        {
          "output_type": "stream",
          "name": "stdout",
          "text": [
            "The iteration is 0\n",
            "The iteration is 1\n",
            "The iteration is 2\n",
            "The iteration is 3\n",
            "The iteration is 4\n",
            "The iteration is 5\n",
            "The iteration is 6\n",
            "The iteration is 7\n",
            "The iteration is 8\n",
            "The iteration is 9\n",
            "The iteration is 10\n"
          ]
        }
      ]
    },
    {
      "cell_type": "code",
      "source": [
        "for i in range(0,11):\n",
        "  print(\"The iteration is {}\".format(i))\n",
        "print(\"The end\")  "
      ],
      "metadata": {
        "colab": {
          "base_uri": "https://localhost:8080/"
        },
        "id": "IDk2BNCLFHmw",
        "outputId": "2c9170b5-54f2-43c0-8b23-635e20a76ff6"
      },
      "execution_count": 16,
      "outputs": [
        {
          "output_type": "stream",
          "name": "stdout",
          "text": [
            "The iteration is 0\n",
            "The iteration is 1\n",
            "The iteration is 2\n",
            "The iteration is 3\n",
            "The iteration is 4\n",
            "The iteration is 5\n",
            "The iteration is 6\n",
            "The iteration is 7\n",
            "The iteration is 8\n",
            "The iteration is 9\n",
            "The iteration is 10\n",
            "The end\n"
          ]
        }
      ]
    },
    {
      "cell_type": "code",
      "source": [
        "i=2\n",
        "\n",
        "for i in range(0,2):\n",
        "  print(\"The iteration is {}\".format(i))\n",
        "print(\"The end\")"
      ],
      "metadata": {
        "colab": {
          "base_uri": "https://localhost:8080/"
        },
        "id": "GkWFUbRgFkCi",
        "outputId": "99bae0ad-df99-4eba-cf8a-3abd854d452d"
      },
      "execution_count": 21,
      "outputs": [
        {
          "output_type": "stream",
          "name": "stdout",
          "text": [
            "The iteration is 0\n",
            "The iteration is 1\n",
            "The end\n"
          ]
        }
      ]
    },
    {
      "cell_type": "code",
      "source": [
        "a=4\n",
        "while a<10:\n",
        "  print(a)\n",
        "  a=1+a\n",
        "print(\"The End!\")"
      ],
      "metadata": {
        "colab": {
          "base_uri": "https://localhost:8080/"
        },
        "id": "psqBW3_OGrCJ",
        "outputId": "7f9a24de-c795-4d3c-d2e5-817dfec54251"
      },
      "execution_count": 29,
      "outputs": [
        {
          "output_type": "stream",
          "name": "stdout",
          "text": [
            "4\n",
            "5\n",
            "6\n",
            "7\n",
            "8\n",
            "9\n",
            "The End!\n"
          ]
        }
      ]
    },
    {
      "cell_type": "code",
      "source": [
        "target_value = 10\n",
        "iterate = 8\n",
        "while iterate <   target_value:\n",
        "  print(\"The iteration no. is {}, which is less than target value {}\".format(iterate, target_value))\n",
        "  iterate=iterate+1\n",
        "print(\"The End\")  \n"
      ],
      "metadata": {
        "colab": {
          "base_uri": "https://localhost:8080/"
        },
        "id": "L-NmhG6EIqK1",
        "outputId": "c408a2bd-105f-4675-9694-8483058bf174"
      },
      "execution_count": 34,
      "outputs": [
        {
          "output_type": "stream",
          "name": "stdout",
          "text": [
            "The iteration no. is 8, which is less than target value 10\n",
            "The iteration no. is 9, which is less than target value 10\n",
            "The End\n"
          ]
        }
      ]
    }
  ]
}